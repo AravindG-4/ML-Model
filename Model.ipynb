{
 "cells": [
  {
   "attachments": {},
   "cell_type": "markdown",
   "metadata": {},
   "source": [
    "IMPORTS"
   ]
  },
  {
   "cell_type": "code",
   "execution_count": 2,
   "metadata": {},
   "outputs": [],
   "source": [
    "#Importing\n",
    "import numpy as np\n",
    "import pandas as pd\n",
    "import matplotlib.pyplot as plt\n",
    "import seaborn as sns\n",
    "from sklearn.model_selection import train_test_split\n",
    "from sklearn.tree import DecisionTreeClassifier\n",
    "from sklearn.ensemble import RandomForestClassifier\n",
    "from sklearn import metrics\n",
    "from sklearn.metrics import confusion_matrix, classification_report"
   ]
  },
  {
   "attachments": {},
   "cell_type": "markdown",
   "metadata": {},
   "source": [
    "EXPLORING DATASET"
   ]
  },
  {
   "cell_type": "code",
   "execution_count": 3,
   "metadata": {},
   "outputs": [
    {
     "name": "stdout",
     "output_type": "stream",
     "text": [
      "Rows : 1059\n",
      "Columns : 8\n",
      "<class 'pandas.core.frame.DataFrame'>\n",
      "RangeIndex: 1059 entries, 0 to 1058\n",
      "Data columns (total 8 columns):\n",
      " #   Column      Non-Null Count  Dtype  \n",
      "---  ------      --------------  -----  \n",
      " 0   pH          1059 non-null   float64\n",
      " 1   Temprature  1059 non-null   int64  \n",
      " 2   Taste       1059 non-null   int64  \n",
      " 3   Odor        1059 non-null   int64  \n",
      " 4   Fat         1059 non-null   int64  \n",
      " 5   Turbidity   1059 non-null   int64  \n",
      " 6   Colour      1059 non-null   int64  \n",
      " 7   Grade       1059 non-null   object \n",
      "dtypes: float64(1), int64(6), object(1)\n",
      "memory usage: 66.3+ KB\n",
      "None\n"
     ]
    }
   ],
   "source": [
    "#Dataset\n",
    "df = pd.read_csv(\"milk.csv\")\n",
    "\n",
    "print(\"Rows : %d\"%df.shape[0])\n",
    "print(\"Columns : %d\"%df.shape[1])\n",
    "\n",
    "print(df.info())"
   ]
  },
  {
   "cell_type": "code",
   "execution_count": 4,
   "metadata": {},
   "outputs": [
    {
     "name": "stdout",
     "output_type": "stream",
     "text": [
      "                pH   Temprature        Taste         Odor         Fat    \n",
      "count  1059.000000  1059.000000  1059.000000  1059.000000  1059.000000  \\\n",
      "mean      6.630123    44.226629     0.546742     0.432483     0.671388   \n",
      "std       1.399679    10.098364     0.498046     0.495655     0.469930   \n",
      "min       3.000000    34.000000     0.000000     0.000000     0.000000   \n",
      "25%       6.500000    38.000000     0.000000     0.000000     0.000000   \n",
      "50%       6.700000    41.000000     1.000000     0.000000     1.000000   \n",
      "75%       6.800000    45.000000     1.000000     1.000000     1.000000   \n",
      "max       9.500000    90.000000     1.000000     1.000000     1.000000   \n",
      "\n",
      "         Turbidity       Colour  \n",
      "count  1059.000000  1059.000000  \n",
      "mean      0.491029   251.840415  \n",
      "std       0.500156     4.307424  \n",
      "min       0.000000   240.000000  \n",
      "25%       0.000000   250.000000  \n",
      "50%       0.000000   255.000000  \n",
      "75%       1.000000   255.000000  \n",
      "max       1.000000   255.000000  \n",
      "    pH  Temprature  Taste  Odor  Fat   Turbidity  Colour   Grade\n",
      "0  6.6          35      1     0     1          0     254    high\n",
      "1  6.6          36      0     1     0          1     253    high\n",
      "2  8.5          70      1     1     1          1     246     low\n",
      "3  9.5          34      1     1     0          1     255     low\n",
      "4  6.6          37      0     0     0          0     255  medium\n"
     ]
    }
   ],
   "source": [
    "#Description of Dataset\n",
    "print(df.describe())\n",
    "print(df.head())"
   ]
  },
  {
   "cell_type": "code",
   "execution_count": 5,
   "metadata": {},
   "outputs": [
    {
     "name": "stdout",
     "output_type": "stream",
     "text": [
      "976\n",
      "pH            0\n",
      "Temprature    0\n",
      "Taste         0\n",
      "Odor          0\n",
      "Fat           0\n",
      "Turbidity     0\n",
      "Colour        0\n",
      "Grade         0\n",
      "dtype: int64\n",
      "pH            16\n",
      "Temprature    17\n",
      "Taste          2\n",
      "Odor           2\n",
      "Fat            2\n",
      "Turbidity      2\n",
      "Colour         9\n",
      "Grade          3\n",
      "dtype: int64\n"
     ]
    },
    {
     "data": {
      "text/plain": [
       "Grade\n",
       "low       429\n",
       "medium    374\n",
       "high      256\n",
       "Name: count, dtype: int64"
      ]
     },
     "execution_count": 5,
     "metadata": {},
     "output_type": "execute_result"
    }
   ],
   "source": [
    "#Check for duplicates\n",
    "print(df.duplicated().sum())\n",
    "\n",
    "#Finding Null Values\n",
    "print(df.isnull().sum())\n",
    "\n",
    "#Unique values\n",
    "print(df.nunique())\n",
    "\n",
    "#values in target\n",
    "df['Grade'].value_counts()"
   ]
  },
  {
   "attachments": {},
   "cell_type": "markdown",
   "metadata": {},
   "source": [
    "DATA VISUALIZATION "
   ]
  },
  {
   "cell_type": "code",
   "execution_count": 6,
   "metadata": {},
   "outputs": [
    {
     "data": {
      "image/png": "[encoded data removed]",
      "text/plain": [
       "<Figure size 500x400 with 2 Axes>"
      ]
     },
     "metadata": {},
     "output_type": "display_data"
    }
   ],
   "source": [
    "#Histogram Chat\n",
    "from matplotlib.figure import Figure\n",
    "fig = plt.figure(figsize =(5, 4))\n",
    " \n",
    "# Creating first axes for the figure\n",
    "ax1 = fig.add_axes([0.1, 0.1, 0.8, 0.8])\n",
    " \n",
    "# Creating second axes for the figure\n",
    "ax2 = fig.add_axes([1.1, 0.1, 0.8, 0.8])\n",
    " \n",
    "# Adding the data to be plotted\n",
    "ax1.hist(df.pH)\n",
    "ax2.hist(df.Temprature)\n",
    "\n",
    "ax1.set_title(\"Histogram chart for pH\")\n",
    "ax2.set_title(\"Histogram chart for Temperature\")\n",
    "\n",
    "ax1.set_xlabel(\"pH\")\n",
    "ax1.set_ylabel(\"No of cases\")\n",
    " \n",
    "ax2.set_xlabel(\"Temperature\")\n",
    "ax2.set_ylabel(\"No of cases\")\n",
    " \n",
    "plt.show()\n"
   ]
  },
  {
   "cell_type": "code",
   "execution_count": 7,
   "metadata": {},
   "outputs": [
    {
     "data": {
      "text/plain": [
       "Text(0.5, 1.0, 'Grade Representation')"
      ]
     },
     "execution_count": 7,
     "metadata": {},
     "output_type": "execute_result"
    },
    {
     "data": {
      "image/png": "[encoded data removed]",
      "text/plain": [
       "<Figure size 640x480 with 1 Axes>"
      ]
     },
     "metadata": {},
     "output_type": "display_data"
    }
   ],
   "source": [
    "#Pie chat\n",
    "data = [df['Grade'].value_counts().low , df['Grade'].value_counts().medium , df['Grade'].value_counts().high]\n",
    "label = [\"Low\", \"Medium\", \"High\"]\n",
    "plt.pie(data, labels = label, autopct='%1.2f%%')\n",
    "plt.title(\"Grade Representation\")"
   ]
  },
  {
   "cell_type": "code",
   "execution_count": 8,
   "metadata": {},
   "outputs": [
    {
     "data": {
      "text/plain": [
       "[Text(0.5, 1.0, 'Scattered plot chart')]"
      ]
     },
     "execution_count": 8,
     "metadata": {},
     "output_type": "execute_result"
    },
    {
     "data": {
      "image/png": "[encoded data removed]",
      "text/plain": [
       "<Figure size 640x480 with 1 Axes>"
      ]
     },
     "metadata": {},
     "output_type": "display_data"
    }
   ],
   "source": [
    "#Scatterplot chart\n",
    "sns.scatterplot(x='Colour' , y='Temprature',data = df, hue = 'Grade').set(title = \"Scattered plot chart\")"
   ]
  },
  {
   "cell_type": "code",
   "execution_count": 9,
   "metadata": {},
   "outputs": [
    {
     "data": {
      "text/html": [
       "<div>\n",
       "<style scoped>\n",
       "    .dataframe tbody tr th:only-of-type {\n",
       "        vertical-align: middle;\n",
       "    }\n",
       "\n",
       "    .dataframe tbody tr th {\n",
       "        vertical-align: top;\n",
       "    }\n",
       "\n",
       "    .dataframe thead th {\n",
       "        text-align: right;\n",
       "    }\n",
       "</style>\n",
       "<table border=\"1\" class=\"dataframe\">\n",
       "  <thead>\n",
       "    <tr style=\"text-align: right;\">\n",
       "      <th></th>\n",
       "      <th>pH</th>\n",
       "      <th>Temprature</th>\n",
       "      <th>Taste</th>\n",
       "      <th>Odor</th>\n",
       "      <th>Fat</th>\n",
       "      <th>Turbidity</th>\n",
       "      <th>Colour</th>\n",
       "      <th>Grade</th>\n",
       "    </tr>\n",
       "  </thead>\n",
       "  <tbody>\n",
       "    <tr>\n",
       "      <th>pH</th>\n",
       "      <td>1.000000</td>\n",
       "      <td>0.244684</td>\n",
       "      <td>-0.064053</td>\n",
       "      <td>-0.081331</td>\n",
       "      <td>-0.093429</td>\n",
       "      <td>0.048384</td>\n",
       "      <td>-0.164565</td>\n",
       "      <td>0.028980</td>\n",
       "    </tr>\n",
       "    <tr>\n",
       "      <th>Temprature</th>\n",
       "      <td>0.244684</td>\n",
       "      <td>1.000000</td>\n",
       "      <td>-0.109792</td>\n",
       "      <td>-0.048870</td>\n",
       "      <td>0.024073</td>\n",
       "      <td>0.185106</td>\n",
       "      <td>-0.008511</td>\n",
       "      <td>-0.417789</td>\n",
       "    </tr>\n",
       "    <tr>\n",
       "      <th>Taste</th>\n",
       "      <td>-0.064053</td>\n",
       "      <td>-0.109792</td>\n",
       "      <td>1.000000</td>\n",
       "      <td>0.017582</td>\n",
       "      <td>0.324149</td>\n",
       "      <td>0.055755</td>\n",
       "      <td>-0.082654</td>\n",
       "      <td>0.025500</td>\n",
       "    </tr>\n",
       "    <tr>\n",
       "      <th>Odor</th>\n",
       "      <td>-0.081331</td>\n",
       "      <td>-0.048870</td>\n",
       "      <td>0.017582</td>\n",
       "      <td>1.000000</td>\n",
       "      <td>0.314505</td>\n",
       "      <td>0.457935</td>\n",
       "      <td>-0.039361</td>\n",
       "      <td>0.149626</td>\n",
       "    </tr>\n",
       "    <tr>\n",
       "      <th>Fat</th>\n",
       "      <td>-0.093429</td>\n",
       "      <td>0.024073</td>\n",
       "      <td>0.324149</td>\n",
       "      <td>0.314505</td>\n",
       "      <td>1.000000</td>\n",
       "      <td>0.329264</td>\n",
       "      <td>0.114151</td>\n",
       "      <td>0.151002</td>\n",
       "    </tr>\n",
       "    <tr>\n",
       "      <th>Turbidity</th>\n",
       "      <td>0.048384</td>\n",
       "      <td>0.185106</td>\n",
       "      <td>0.055755</td>\n",
       "      <td>0.457935</td>\n",
       "      <td>0.329264</td>\n",
       "      <td>1.000000</td>\n",
       "      <td>0.136436</td>\n",
       "      <td>-0.153634</td>\n",
       "    </tr>\n",
       "    <tr>\n",
       "      <th>Colour</th>\n",
       "      <td>-0.164565</td>\n",
       "      <td>-0.008511</td>\n",
       "      <td>-0.082654</td>\n",
       "      <td>-0.039361</td>\n",
       "      <td>0.114151</td>\n",
       "      <td>0.136436</td>\n",
       "      <td>1.000000</td>\n",
       "      <td>-0.056986</td>\n",
       "    </tr>\n",
       "    <tr>\n",
       "      <th>Grade</th>\n",
       "      <td>0.028980</td>\n",
       "      <td>-0.417789</td>\n",
       "      <td>0.025500</td>\n",
       "      <td>0.149626</td>\n",
       "      <td>0.151002</td>\n",
       "      <td>-0.153634</td>\n",
       "      <td>-0.056986</td>\n",
       "      <td>1.000000</td>\n",
       "    </tr>\n",
       "  </tbody>\n",
       "</table>\n",
       "</div>"
      ],
      "text/plain": [
       "                  pH  Temprature     Taste      Odor      Fat   Turbidity   \n",
       "pH          1.000000    0.244684 -0.064053 -0.081331 -0.093429   0.048384  \\\n",
       "Temprature  0.244684    1.000000 -0.109792 -0.048870  0.024073   0.185106   \n",
       "Taste      -0.064053   -0.109792  1.000000  0.017582  0.324149   0.055755   \n",
       "Odor       -0.081331   -0.048870  0.017582  1.000000  0.314505   0.457935   \n",
       "Fat        -0.093429    0.024073  0.324149  0.314505  1.000000   0.329264   \n",
       "Turbidity   0.048384    0.185106  0.055755  0.457935  0.329264   1.000000   \n",
       "Colour     -0.164565   -0.008511 -0.082654 -0.039361  0.114151   0.136436   \n",
       "Grade       0.028980   -0.417789  0.025500  0.149626  0.151002  -0.153634   \n",
       "\n",
       "              Colour     Grade  \n",
       "pH         -0.164565  0.028980  \n",
       "Temprature -0.008511 -0.417789  \n",
       "Taste      -0.082654  0.025500  \n",
       "Odor       -0.039361  0.149626  \n",
       "Fat         0.114151  0.151002  \n",
       "Turbidity   0.136436 -0.153634  \n",
       "Colour      1.000000 -0.056986  \n",
       "Grade      -0.056986  1.000000  "
      ]
     },
     "execution_count": 9,
     "metadata": {},
     "output_type": "execute_result"
    }
   ],
   "source": [
    "#Converting string in target into values\n",
    "df['Grade'] =df['Grade'].map({'low': 0, 'medium': 1,'high':2})\n",
    "df.corr()"
   ]
  },
  {
   "cell_type": "code",
   "execution_count": 10,
   "metadata": {},
   "outputs": [
    {
     "data": {
      "image/png": "[encoded data removed]",
      "text/plain": [
       "<Figure size 1500x600 with 1 Axes>"
      ]
     },
     "metadata": {},
     "output_type": "display_data"
    }
   ],
   "source": [
    "#Outline of Bar graph for all columns\n",
    "plt.figure(figsize=(15,6))\n",
    "sns.barplot(data = df, color = 'lightblue')\n",
    "plt.xticks(rotation=90, fontsize=10)\n",
    "plt.title(\"Bar chart for all columns\")\n",
    "plt.show()"
   ]
  },
  {
   "cell_type": "code",
   "execution_count": 11,
   "metadata": {},
   "outputs": [],
   "source": [
    "#Train and Target columns\n",
    "x=df.drop('Grade',axis=1)\n",
    "y=df['Grade']\n",
    "\n",
    "x_train,x_test,y_train,y_test = train_test_split(x,y,test_size = 0.20)"
   ]
  },
  {
   "cell_type": "code",
   "execution_count": 20,
   "metadata": {},
   "outputs": [
    {
     "data": {
      "text/html": [
       "<div>\n",
       "<style scoped>\n",
       "    .dataframe tbody tr th:only-of-type {\n",
       "        vertical-align: middle;\n",
       "    }\n",
       "\n",
       "    .dataframe tbody tr th {\n",
       "        vertical-align: top;\n",
       "    }\n",
       "\n",
       "    .dataframe thead th {\n",
       "        text-align: right;\n",
       "    }\n",
       "</style>\n",
       "<table border=\"1\" class=\"dataframe\">\n",
       "  <thead>\n",
       "    <tr style=\"text-align: right;\">\n",
       "      <th></th>\n",
       "      <th>pH</th>\n",
       "      <th>Temprature</th>\n",
       "      <th>Taste</th>\n",
       "      <th>Odor</th>\n",
       "      <th>Fat</th>\n",
       "      <th>Turbidity</th>\n",
       "      <th>Colour</th>\n",
       "    </tr>\n",
       "  </thead>\n",
       "  <tbody>\n",
       "    <tr>\n",
       "      <th>958</th>\n",
       "      <td>6.5</td>\n",
       "      <td>38</td>\n",
       "      <td>1</td>\n",
       "      <td>1</td>\n",
       "      <td>1</td>\n",
       "      <td>1</td>\n",
       "      <td>255</td>\n",
       "    </tr>\n",
       "    <tr>\n",
       "      <th>939</th>\n",
       "      <td>6.7</td>\n",
       "      <td>45</td>\n",
       "      <td>1</td>\n",
       "      <td>1</td>\n",
       "      <td>1</td>\n",
       "      <td>0</td>\n",
       "      <td>245</td>\n",
       "    </tr>\n",
       "    <tr>\n",
       "      <th>780</th>\n",
       "      <td>6.6</td>\n",
       "      <td>37</td>\n",
       "      <td>1</td>\n",
       "      <td>1</td>\n",
       "      <td>1</td>\n",
       "      <td>1</td>\n",
       "      <td>255</td>\n",
       "    </tr>\n",
       "    <tr>\n",
       "      <th>526</th>\n",
       "      <td>6.8</td>\n",
       "      <td>50</td>\n",
       "      <td>0</td>\n",
       "      <td>0</td>\n",
       "      <td>1</td>\n",
       "      <td>0</td>\n",
       "      <td>255</td>\n",
       "    </tr>\n",
       "    <tr>\n",
       "      <th>595</th>\n",
       "      <td>6.5</td>\n",
       "      <td>37</td>\n",
       "      <td>0</td>\n",
       "      <td>0</td>\n",
       "      <td>0</td>\n",
       "      <td>0</td>\n",
       "      <td>255</td>\n",
       "    </tr>\n",
       "  </tbody>\n",
       "</table>\n",
       "</div>"
      ],
      "text/plain": [
       "      pH  Temprature  Taste  Odor  Fat   Turbidity  Colour\n",
       "958  6.5          38      1     1     1          1     255\n",
       "939  6.7          45      1     1     1          0     245\n",
       "780  6.6          37      1     1     1          1     255\n",
       "526  6.8          50      0     0     1          0     255\n",
       "595  6.5          37      0     0     0          0     255"
      ]
     },
     "execution_count": 20,
     "metadata": {},
     "output_type": "execute_result"
    }
   ],
   "source": [
    "x_test.head()"
   ]
  },
  {
   "attachments": {},
   "cell_type": "markdown",
   "metadata": {},
   "source": [
    "CLASSIFICATION BASED ML MODEL BUILDING"
   ]
  },
  {
   "cell_type": "code",
   "execution_count": 13,
   "metadata": {},
   "outputs": [
    {
     "name": "stdout",
     "output_type": "stream",
     "text": [
      "Training Accuracy : 1.0\n",
      "Testing Accuracy : 0.9952830188679245\n",
      "Prediction accuracy :  0.9952830188679245\n",
      "              precision    recall  f1-score   support\n",
      "\n",
      "           0       1.00      0.99      0.99        89\n",
      "           1       1.00      1.00      1.00        75\n",
      "           2       0.98      1.00      0.99        48\n",
      "\n",
      "    accuracy                           1.00       212\n",
      "   macro avg       0.99      1.00      0.99       212\n",
      "weighted avg       1.00      1.00      1.00       212\n",
      "\n"
     ]
    }
   ],
   "source": [
    "#Decision tree classifier\n",
    "dtc=DecisionTreeClassifier()\n",
    "dtc.fit(x_train,y_train)\n",
    "y_pred_dtc = dtc.predict(x_test)\n",
    "\n",
    "print(\"Training Accuracy :\",dtc.score(x_train,y_train))\n",
    "print(\"Testing Accuracy :\",dtc.score(x_test,y_test))\n",
    "\n",
    "print(\"Prediction accuracy : \",metrics.accuracy_score(y_test, y_pred_dtc))\n",
    "print(metrics.classification_report(y_test, y_pred_dtc))"
   ]
  },
  {
   "cell_type": "code",
   "execution_count": 14,
   "metadata": {},
   "outputs": [
    {
     "name": "stdout",
     "output_type": "stream",
     "text": [
      "Training Accuracy : 1.0\n",
      "Testing Accuracy : 0.9952830188679245\n",
      "Prediction accuracy :  0.9952830188679245\n",
      "              precision    recall  f1-score   support\n",
      "\n",
      "           0       1.00      0.99      0.99        89\n",
      "           1       1.00      1.00      1.00        75\n",
      "           2       0.98      1.00      0.99        48\n",
      "\n",
      "    accuracy                           1.00       212\n",
      "   macro avg       0.99      1.00      0.99       212\n",
      "weighted avg       1.00      1.00      1.00       212\n",
      "\n"
     ]
    }
   ],
   "source": [
    "#Random tree classifier\n",
    "rfc=RandomForestClassifier()\n",
    "rfc.fit(x_train,y_train)\n",
    "y_pred_rfc = rfc.predict(x_test)\n",
    "\n",
    "print(\"Training Accuracy :\",rfc.score(x_train,y_train))\n",
    "print(\"Testing Accuracy :\",rfc.score(x_test,y_test))\n",
    "\n",
    "print(\"Prediction accuracy : \",metrics.accuracy_score(y_test, y_pred_rfc))\n",
    "print(metrics.classification_report(y_test, y_pred_rfc))"
   ]
  },
  {
   "cell_type": "code",
   "execution_count": 15,
   "metadata": {},
   "outputs": [],
   "source": [
    "#The random forest collects the data of each tree and forecasts the future based on the majority of predictions,\n",
    "# rather than relying on a single decision tree."
   ]
  }
 ],
 "metadata": {
  "kernelspec": {
   "display_name": "Python 3",
   "language": "python",
   "name": "python3"
  },
  "language_info": {
   "codemirror_mode": {
    "name": "ipython",
    "version": 3
   },
   "file_extension": ".py",
   "mimetype": "text/x-python",
   "name": "python",
   "nbconvert_exporter": "python",
   "pygments_lexer": "ipython3",
   "version": "3.11.6"
  },
  "orig_nbformat": 4
 },
 "nbformat": 4,
 "nbformat_minor": 2
}
